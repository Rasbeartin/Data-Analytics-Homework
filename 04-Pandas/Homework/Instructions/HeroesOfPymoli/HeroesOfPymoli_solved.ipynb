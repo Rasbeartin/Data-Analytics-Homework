{
 "cells": [
  {
   "cell_type": "markdown",
   "metadata": {},
   "source": [
    "### Heroes Of Pymoli Data Analysis\n",
    "* Of the 1163 active players, the vast majority are male (84%). There also exists, a smaller, but notable proportion of female players (14%).\n",
    "\n",
    "* Our peak age demographic falls between 20-24 (44.8%) with secondary groups falling between 15-19 (18.60%) and 25-29 (13.4%).  \n",
    "-----"
   ]
  },
  {
   "cell_type": "markdown",
   "metadata": {},
   "source": [
    "### Note\n",
    "* Instructions have been included for each segment. You do not have to follow them exactly, but they are included to help you think through the steps."
   ]
  },
  {
   "cell_type": "code",
   "execution_count": 1,
   "metadata": {},
   "outputs": [],
   "source": [
    "# Dependencies and Setup\n",
    "import pandas as pd\n",
    "import numpy as np\n",
    "\n",
    "# File to Load (Remember to Change These)\n",
    "file_to_load = \"Resources/purchase_data.csv\"\n",
    "\n",
    "# Read Purchasing File and store into Pandas data frame\n",
    "purchase_data = pd.read_csv(file_to_load)\n",
    "total_players = 0\n",
    "purchase_frame = pd.DataFrame(purchase_data)"
   ]
  },
  {
   "cell_type": "raw",
   "metadata": {},
   "source": [
    "* Display the total number of players\n"
   ]
  },
  {
   "cell_type": "code",
   "execution_count": 2,
   "metadata": {},
   "outputs": [
    {
     "name": "stdout",
     "output_type": "stream",
     "text": [
      "Total Players with Purchases in Heros of Pymoli: 780\n"
     ]
    }
   ],
   "source": [
    "\n",
    "total_players = purchase_frame['SN'].count()\n",
    "print(f'Total Players with Purchases in Heros of Pymoli: {total_players}')"
   ]
  },
  {
   "cell_type": "markdown",
   "metadata": {},
   "source": [
    "## Purchasing Analysis (Total)"
   ]
  },
  {
   "cell_type": "markdown",
   "metadata": {},
   "source": [
    "* Run basic calculations to obtain number of unique items, average price, etc.\n",
    "\n",
    "\n",
    "* Create a summary data frame to hold the results\n",
    "\n",
    "\n",
    "* Optional: give the displayed data cleaner formatting\n",
    "\n",
    "\n",
    "* Display the summary data frame\n"
   ]
  },
  {
   "cell_type": "code",
   "execution_count": 3,
   "metadata": {
    "scrolled": true
   },
   "outputs": [
    {
     "data": {
      "text/html": [
       "<div>\n",
       "<style scoped>\n",
       "    .dataframe tbody tr th:only-of-type {\n",
       "        vertical-align: middle;\n",
       "    }\n",
       "\n",
       "    .dataframe tbody tr th {\n",
       "        vertical-align: top;\n",
       "    }\n",
       "\n",
       "    .dataframe thead th {\n",
       "        text-align: right;\n",
       "    }\n",
       "</style>\n",
       "<table border=\"1\" class=\"dataframe\">\n",
       "  <thead>\n",
       "    <tr style=\"text-align: right;\">\n",
       "      <th></th>\n",
       "      <th>Total Players/Purchases</th>\n",
       "      <th>Unique Items</th>\n",
       "      <th>Average Price</th>\n",
       "      <th>Total Revenue</th>\n",
       "      <th>Male</th>\n",
       "      <th>Female</th>\n",
       "      <th>Other / Non-Disclosed Gender</th>\n",
       "      <th>Median Age</th>\n",
       "    </tr>\n",
       "  </thead>\n",
       "  <tbody>\n",
       "    <tr>\n",
       "      <th>0</th>\n",
       "      <td>780</td>\n",
       "      <td>179</td>\n",
       "      <td>3.05</td>\n",
       "      <td>2379.77</td>\n",
       "      <td>652</td>\n",
       "      <td>113</td>\n",
       "      <td>15</td>\n",
       "      <td>22.0</td>\n",
       "    </tr>\n",
       "  </tbody>\n",
       "</table>\n",
       "</div>"
      ],
      "text/plain": [
       "   Total Players/Purchases  Unique Items  Average Price  Total Revenue  Male  \\\n",
       "0                      780           179           3.05        2379.77   652   \n",
       "\n",
       "   Female  Other / Non-Disclosed Gender  Median Age  \n",
       "0     113                            15        22.0  "
      ]
     },
     "execution_count": 3,
     "metadata": {},
     "output_type": "execute_result"
    }
   ],
   "source": [
    "num_item_unique = len(purchase_frame['Item Name'].unique())\n",
    "avg_price = (purchase_frame['Price'].sum() / len(purchase_frame)).round(2)\n",
    "total_revenue = purchase_frame['Price'].sum()\n",
    "\n",
    "gender = purchase_frame['Gender'].value_counts()\n",
    "gender_m = gender['Male']\n",
    "gender_f = gender['Female']\n",
    "other = gender['Other / Non-Disclosed']\n",
    "purchase_frame.head()\n",
    "med_age = purchase_frame['Age'].median()\n",
    "\n",
    "summary_df = pd.DataFrame(\n",
    "    {'Total Players/Purchases':[total_players],\n",
    "    'Unique Items': [num_item_unique],\n",
    "    'Average Price': [avg_price],\n",
    "    'Total Revenue': [total_revenue],\n",
    "    'Male': gender_m,\n",
    "    'Female': gender_f,\n",
    "    'Other / Non-Disclosed Gender': other,\n",
    "    'Median Age': med_age})\n",
    "summary_df\n",
    "\n",
    "\n"
   ]
  },
  {
   "cell_type": "markdown",
   "metadata": {},
   "source": [
    "## Gender Demographics"
   ]
  },
  {
   "cell_type": "markdown",
   "metadata": {},
   "source": [
    "* Percentage and Count of Male Players\n",
    "\n",
    "\n",
    "* Percentage and Count of Female Players\n",
    "\n",
    "\n",
    "* Percentage and Count of Other / Non-Disclosed\n",
    "\n",
    "\n"
   ]
  },
  {
   "cell_type": "code",
   "execution_count": 4,
   "metadata": {},
   "outputs": [
    {
     "data": {
      "text/html": [
       "<div>\n",
       "<style scoped>\n",
       "    .dataframe tbody tr th:only-of-type {\n",
       "        vertical-align: middle;\n",
       "    }\n",
       "\n",
       "    .dataframe tbody tr th {\n",
       "        vertical-align: top;\n",
       "    }\n",
       "\n",
       "    .dataframe thead th {\n",
       "        text-align: right;\n",
       "    }\n",
       "</style>\n",
       "<table border=\"1\" class=\"dataframe\">\n",
       "  <thead>\n",
       "    <tr style=\"text-align: right;\">\n",
       "      <th></th>\n",
       "      <th>Gender</th>\n",
       "      <th>Sum</th>\n",
       "      <th>Percentage</th>\n",
       "    </tr>\n",
       "  </thead>\n",
       "  <tbody>\n",
       "    <tr>\n",
       "      <th>0</th>\n",
       "      <td>male</td>\n",
       "      <td>652</td>\n",
       "      <td>83.6</td>\n",
       "    </tr>\n",
       "    <tr>\n",
       "      <th>1</th>\n",
       "      <td>Female</td>\n",
       "      <td>113</td>\n",
       "      <td>14.5</td>\n",
       "    </tr>\n",
       "    <tr>\n",
       "      <th>2</th>\n",
       "      <td>Other / non</td>\n",
       "      <td>15</td>\n",
       "      <td>1.9</td>\n",
       "    </tr>\n",
       "  </tbody>\n",
       "</table>\n",
       "</div>"
      ],
      "text/plain": [
       "        Gender  Sum  Percentage\n",
       "0         male  652        83.6\n",
       "1       Female  113        14.5\n",
       "2  Other / non   15         1.9"
      ]
     },
     "execution_count": 4,
     "metadata": {},
     "output_type": "execute_result"
    }
   ],
   "source": [
    "gender_df = pd.DataFrame({\n",
    "    'Gender': ['male', 'Female', 'Other / non'],\n",
    "    'Sum': [gender_m, gender_f, other],\n",
    "    'Percentage':[100*(gender_m / total_players).round(3), 100*(gender_f / total_players).round(3), \n",
    "                  100*(other / total_players).round(3)]\n",
    "    \n",
    "})\n",
    "gender_df"
   ]
  },
  {
   "cell_type": "markdown",
   "metadata": {},
   "source": [
    "\n",
    "## Purchasing Analysis (Gender)"
   ]
  },
  {
   "cell_type": "markdown",
   "metadata": {},
   "source": [
    "* Run basic calculations to obtain purchase count, avg. purchase price, avg. purchase total per person etc. by gender\n",
    "\n",
    "\n",
    "\n",
    "\n",
    "* Create a summary data frame to hold the results\n",
    "\n",
    "\n",
    "* Optional: give the displayed data cleaner formatting\n",
    "\n",
    "\n",
    "* Display the summary data frame"
   ]
  },
  {
   "cell_type": "code",
   "execution_count": 5,
   "metadata": {},
   "outputs": [
    {
     "data": {
      "text/html": [
       "<div>\n",
       "<style scoped>\n",
       "    .dataframe tbody tr th:only-of-type {\n",
       "        vertical-align: middle;\n",
       "    }\n",
       "\n",
       "    .dataframe tbody tr th {\n",
       "        vertical-align: top;\n",
       "    }\n",
       "\n",
       "    .dataframe thead th {\n",
       "        text-align: right;\n",
       "    }\n",
       "</style>\n",
       "<table border=\"1\" class=\"dataframe\">\n",
       "  <thead>\n",
       "    <tr style=\"text-align: right;\">\n",
       "      <th></th>\n",
       "      <th>Total Purchases</th>\n",
       "      <th>Average Purchase</th>\n",
       "      <th>Average Purchase/person</th>\n",
       "      <th>Total Purchase Value</th>\n",
       "    </tr>\n",
       "    <tr>\n",
       "      <th>Gender</th>\n",
       "      <th></th>\n",
       "      <th></th>\n",
       "      <th></th>\n",
       "      <th></th>\n",
       "    </tr>\n",
       "  </thead>\n",
       "  <tbody>\n",
       "    <tr>\n",
       "      <th>Male</th>\n",
       "      <td>652</td>\n",
       "      <td>3.02</td>\n",
       "      <td>4.07</td>\n",
       "      <td>1967.64</td>\n",
       "    </tr>\n",
       "    <tr>\n",
       "      <th>Female</th>\n",
       "      <td>113</td>\n",
       "      <td>3.20</td>\n",
       "      <td>4.47</td>\n",
       "      <td>361.94</td>\n",
       "    </tr>\n",
       "    <tr>\n",
       "      <th>Other</th>\n",
       "      <td>15</td>\n",
       "      <td>3.35</td>\n",
       "      <td>4.56</td>\n",
       "      <td>50.19</td>\n",
       "    </tr>\n",
       "  </tbody>\n",
       "</table>\n",
       "</div>"
      ],
      "text/plain": [
       "        Total Purchases  Average Purchase  Average Purchase/person  \\\n",
       "Gender                                                               \n",
       "Male                652              3.02                     4.07   \n",
       "Female              113              3.20                     4.47   \n",
       "Other                15              3.35                     4.56   \n",
       "\n",
       "        Total Purchase Value  \n",
       "Gender                        \n",
       "Male                 1967.64  \n",
       "Female                361.94  \n",
       "Other                  50.19  "
      ]
     },
     "execution_count": 5,
     "metadata": {},
     "output_type": "execute_result"
    }
   ],
   "source": [
    "# sorts male data \n",
    "male_sort = purchase_frame.Gender == 'Male'\n",
    "male_sort_df = purchase_frame[male_sort]\n",
    "#Identifies purchase totals and averages for male players\n",
    "male_pur_count = male_sort_df['SN'].count()\n",
    "male_avg_pur = ((male_sort_df['Price'].sum()) / len(male_sort_df['Price'])).round(2)\n",
    "sn_male_groupby = pd.DataFrame(male_sort_df.groupby(['SN'])['Price'].sum()).reset_index()\n",
    "avg_pur_permale = ((sn_male_groupby['Price'].sum()) / len(sn_male_groupby['SN'])).round(2)\n",
    "tot_male_purval = sn_male_groupby['Price'].sum()\n",
    "\n",
    "#sorts female data and \n",
    "fem_sort = purchase_frame.Gender == 'Female'\n",
    "fem_sort_df = purchase_frame[fem_sort]\n",
    "#Identifies purchase totals and averages for female players\n",
    "fem_pur_count = fem_sort_df['SN'].count()\n",
    "fem_avg_pur = ((fem_sort_df['Price'].sum()) / len(fem_sort_df['Price'])).round(2)\n",
    "sn_fem_groupby = pd.DataFrame(fem_sort_df.groupby(['SN'])['Price'].sum()).reset_index()\n",
    "avg_pur_perfem = ((sn_fem_groupby['Price'].sum()) / len(sn_fem_groupby['SN'])).round(2)\n",
    "tot_fem_purval = sn_fem_groupby['Price'].sum()\n",
    "\n",
    "#sorts other data and \n",
    "other_sort = purchase_frame.Gender == 'Other / Non-Disclosed'\n",
    "other_sort_df = purchase_frame[other_sort]\n",
    "#Identiies purchase totals and averages for other or non disclosed gender.\n",
    "other_pur_count = other_sort_df['SN'].count()\n",
    "other_avg_pur = ((other_sort_df['Price'].sum()) / len(other_sort_df['Price'])).round(2)\n",
    "sn_other_groupby = pd.DataFrame(other_sort_df.groupby(['SN'])['Price'].sum()).reset_index()\n",
    "avg_pur_perother = ((sn_other_groupby['Price'].sum()) / len(sn_other_groupby['SN'])).round(2)\n",
    "tot_other_purval = sn_other_groupby['Price'].sum()\n",
    "\n",
    "#Viewable data frames for sort values. \n",
    "#male_df = purchase_frame[male_sort]\n",
    "#female_df = purchase_frame[female_sort]\n",
    "#other_df = purchase_frame[other_sort]\n",
    "\n",
    "sum_age_pur = pd.DataFrame({\n",
    "    'Gender': ['Male','Female','Other'],\n",
    "    'Total Purchases': [male_pur_count, fem_pur_count, other_pur_count],\n",
    "    'Average Purchase': [male_avg_pur, fem_avg_pur, other_avg_pur],\n",
    "    'Average Purchase/person': [avg_pur_permale, avg_pur_perfem, avg_pur_perother],\n",
    "    'Total Purchase Value': [tot_male_purval, tot_fem_purval, tot_other_purval]\n",
    "})\n",
    "sum_age_pur.set_index('Gender')\n",
    "\n",
    "\n"
   ]
  },
  {
   "cell_type": "markdown",
   "metadata": {},
   "source": [
    "## Age Demographics"
   ]
  },
  {
   "cell_type": "markdown",
   "metadata": {},
   "source": [
    "* Establish bins for ages\n",
    "\n",
    "\n",
    "* Categorize the existing players using the age bins. Hint: use pd.cut()\n",
    "\n",
    "\n",
    "* Calculate the numbers and percentages by age group\n",
    "\n",
    "\n",
    "* Create a summary data frame to hold the results\n",
    "\n",
    "\n",
    "* Optional: round the percentage column to two decimal points\n",
    "\n",
    "\n",
    "* Display Age Demographics Table\n"
   ]
  },
  {
   "cell_type": "code",
   "execution_count": 6,
   "metadata": {},
   "outputs": [],
   "source": [
    "#combined this info into the next dataframe. "
   ]
  },
  {
   "cell_type": "markdown",
   "metadata": {},
   "source": [
    "## Purchasing Analysis (Age)"
   ]
  },
  {
   "cell_type": "markdown",
   "metadata": {},
   "source": [
    "* Bin the purchase_data data frame by age\n",
    "\n",
    "\n",
    "* Run basic calculations to obtain purchase count, avg. purchase price, avg. purchase total per person etc. in the table below\n",
    "\n",
    "\n",
    "* Create a summary data frame to hold the results\n",
    "\n",
    "\n",
    "* Optional: give the displayed data cleaner formatting\n",
    "\n",
    "\n",
    "* Display the summary data frame"
   ]
  },
  {
   "cell_type": "code",
   "execution_count": 7,
   "metadata": {},
   "outputs": [
    {
     "data": {
      "text/html": [
       "<div>\n",
       "<style scoped>\n",
       "    .dataframe tbody tr th:only-of-type {\n",
       "        vertical-align: middle;\n",
       "    }\n",
       "\n",
       "    .dataframe tbody tr th {\n",
       "        vertical-align: top;\n",
       "    }\n",
       "\n",
       "    .dataframe thead th {\n",
       "        text-align: right;\n",
       "    }\n",
       "</style>\n",
       "<table border=\"1\" class=\"dataframe\">\n",
       "  <thead>\n",
       "    <tr style=\"text-align: right;\">\n",
       "      <th></th>\n",
       "      <th>Total Purchases</th>\n",
       "      <th>Age Group %</th>\n",
       "      <th>Avg Purchase</th>\n",
       "      <th>Avg Purchase Per Player</th>\n",
       "      <th>Total Revenue</th>\n",
       "    </tr>\n",
       "    <tr>\n",
       "      <th>Age</th>\n",
       "      <th></th>\n",
       "      <th></th>\n",
       "      <th></th>\n",
       "      <th></th>\n",
       "      <th></th>\n",
       "    </tr>\n",
       "  </thead>\n",
       "  <tbody>\n",
       "    <tr>\n",
       "      <th>0-17</th>\n",
       "      <td>164</td>\n",
       "      <td>21.03</td>\n",
       "      <td>3.07</td>\n",
       "      <td>3.90</td>\n",
       "      <td>502.82</td>\n",
       "    </tr>\n",
       "    <tr>\n",
       "      <th>18-24</th>\n",
       "      <td>447</td>\n",
       "      <td>57.31</td>\n",
       "      <td>3.06</td>\n",
       "      <td>4.30</td>\n",
       "      <td>1365.94</td>\n",
       "    </tr>\n",
       "    <tr>\n",
       "      <th>25-29</th>\n",
       "      <td>77</td>\n",
       "      <td>9.87</td>\n",
       "      <td>2.88</td>\n",
       "      <td>3.75</td>\n",
       "      <td>221.42</td>\n",
       "    </tr>\n",
       "    <tr>\n",
       "      <th>30-39</th>\n",
       "      <td>85</td>\n",
       "      <td>10.90</td>\n",
       "      <td>3.15</td>\n",
       "      <td>4.25</td>\n",
       "      <td>268.06</td>\n",
       "    </tr>\n",
       "    <tr>\n",
       "      <th>40 and up</th>\n",
       "      <td>7</td>\n",
       "      <td>0.90</td>\n",
       "      <td>3.08</td>\n",
       "      <td>3.08</td>\n",
       "      <td>21.53</td>\n",
       "    </tr>\n",
       "  </tbody>\n",
       "</table>\n",
       "</div>"
      ],
      "text/plain": [
       "           Total Purchases  Age Group %  Avg Purchase  \\\n",
       "Age                                                     \n",
       "0-17                   164        21.03          3.07   \n",
       "18-24                  447        57.31          3.06   \n",
       "25-29                   77         9.87          2.88   \n",
       "30-39                   85        10.90          3.15   \n",
       "40 and up                7         0.90          3.08   \n",
       "\n",
       "           Avg Purchase Per Player  Total Revenue  \n",
       "Age                                                \n",
       "0-17                          3.90         502.82  \n",
       "18-24                         4.30        1365.94  \n",
       "25-29                         3.75         221.42  \n",
       "30-39                         4.25         268.06  \n",
       "40 and up                     3.08          21.53  "
      ]
     },
     "execution_count": 7,
     "metadata": {},
     "output_type": "execute_result"
    }
   ],
   "source": [
    "bins = [0,18,25,30,40,200]\n",
    "group_names = ['0-17','18-24','25-29','30-39','40+']\n",
    "purchase_frame['AgeGroup'] = pd.cut(purchase_frame['Age'], bins, labels = group_names)\n",
    "agebin_df = purchase_frame\n",
    "\n",
    "#Sort out age group 0-17\n",
    "sort_017 = purchase_frame.AgeGroup == '0-17'\n",
    "sort_017_df = agebin_df[sort_017]\n",
    "\n",
    "#count totals and find averages and percentages\n",
    "total_017 = sort_017_df['Price'].sum()\n",
    "count_017 = sort_017_df['SN'].count()\n",
    "avg_pur_017 = ((sort_017_df['Price'].sum()) / len(sort_017_df['Price'])).round(2)\n",
    "age_017_groupby = pd.DataFrame(sort_017_df.groupby(['AgeGroup', 'SN'])['Price'].sum()).reset_index()\n",
    "avg_pur_per_017 = ((age_017_groupby['Price'].sum()) / len(age_017_groupby['SN'])).round(2)\n",
    "percent_017 = (100 * (count_017 / total_players)).round(2)\n",
    "\n",
    "\n",
    "#sort out age group 18-24\n",
    "sort_1824 = purchase_frame.AgeGroup == '18-24'\n",
    "sort_1824_df = agebin_df[sort_1824]\n",
    "\n",
    "#Count totals and find averages and percentages\n",
    "total_1824 = sort_1824_df['Price'].sum()\n",
    "count_1824 = sort_1824_df['SN'].count()\n",
    "avg_pur_1824 = ((sort_1824_df['Price'].sum()) / len(sort_1824_df['Price'])).round(2)\n",
    "age_1824_groupby = pd.DataFrame(sort_1824_df.groupby(['AgeGroup', 'SN'])['Price'].sum()).reset_index()\n",
    "avg_pur_per_1824 = ((age_1824_groupby['Price'].sum()) / len(age_1824_groupby['SN'])).round(2)\n",
    "percent_1824 = (100 * (count_1824 / total_players)).round(2)\n",
    "\n",
    "#sort out age group 25-29\n",
    "sort_2529 = purchase_frame.AgeGroup == '25-29'\n",
    "sort_2529_df = agebin_df[sort_2529]\n",
    "\n",
    "#Count totals and find averages averages and percentages\n",
    "total_2529 = sort_2529_df['Price'].sum()\n",
    "count_2529 = sort_2529_df['SN'].count()\n",
    "avg_pur_2529 = ((sort_2529_df['Price'].sum()) / len(sort_2529_df['Price'])).round(2)\n",
    "age_2529_groupby = pd.DataFrame(sort_2529_df.groupby(['AgeGroup', 'SN'])['Price'].sum()).reset_index()\n",
    "avg_pur_per_2529 = ((age_2529_groupby['Price'].sum()) / len(age_2529_groupby['SN'])).round(2)\n",
    "percent_2529 = (100 * (count_2529 / total_players)).round(2)\n",
    "\n",
    "#Sort out age group 30-39\n",
    "sort_3039 = purchase_frame.AgeGroup == '30-39'\n",
    "sort_3039_df = agebin_df[sort_3039]\n",
    "\n",
    "#Count totals and find averages and percentages\n",
    "total_3039 = sort_3039_df['Price'].sum()\n",
    "count_3039 = sort_3039_df['SN'].count()\n",
    "avg_pur_3039 = ((sort_3039_df['Price'].sum()) / len(sort_3039_df['Price'])).round(2)\n",
    "age_3039_groupby = pd.DataFrame(sort_3039_df.groupby(['AgeGroup', 'SN'])['Price'].sum()).reset_index()\n",
    "avg_pur_per_3039 = ((age_3039_groupby['Price'].sum()) / len(age_3039_groupby['SN'])).round(2)\n",
    "percent_3039 = (100 * (count_3039 / total_players)).round(2)\n",
    "\n",
    "#Sort out age 40 and up\n",
    "sort_40p = purchase_frame.AgeGroup == '40+'\n",
    "sort_40p_df = agebin_df[sort_40p]\n",
    "\n",
    "#Count totals and find averages percentages \n",
    "total_40p = sort_40p_df['Price'].sum()\n",
    "count_40p = sort_40p_df['SN'].count()\n",
    "avg_pur_40p = ((sort_40p_df['Price'].sum()) / len(sort_40p_df['Price'])).round(2)\n",
    "age_40p_groupby = pd.DataFrame(sort_40p_df.groupby(['AgeGroup', 'SN'])['Price'].sum()).reset_index()\n",
    "avg_pur_per_40p = ((age_40p_groupby['Price'].sum()) / len(age_40p_groupby['SN'])).round(2)\n",
    "percent_40p = (100 * (count_40p / total_players)).round(2)\n",
    "\n",
    "age_sum_df = pd.DataFrame({\n",
    "    'Age': ['0-17','18-24','25-29','30-39','40 and up'],\n",
    "    'Total Purchases': [count_017, count_1824, count_2529, count_3039, count_40p],\n",
    "    'Age Group %': [percent_017, percent_1824, percent_2529, percent_3039, percent_40p],\n",
    "    'Avg Purchase': [avg_pur_017, avg_pur_1824, avg_pur_2529, avg_pur_3039, avg_pur_40p],\n",
    "    'Avg Purchase Per Player': [avg_pur_per_017, avg_pur_per_1824, avg_pur_per_2529, avg_pur_per_3039, avg_pur_per_40p],\n",
    "    'Total Revenue': [total_017, total_1824, total_2529, total_3039, total_40p]\n",
    "})\n",
    "\n",
    "age_sum_df.set_index('Age')"
   ]
  },
  {
   "cell_type": "markdown",
   "metadata": {},
   "source": [
    "## Top Spenders"
   ]
  },
  {
   "cell_type": "markdown",
   "metadata": {},
   "source": [
    "* Run basic calculations to obtain the results in the table below\n",
    "\n",
    "\n",
    "* Create a summary data frame to hold the results\n",
    "\n",
    "\n",
    "* Sort the total purchase value column in descending order\n",
    "\n",
    "\n",
    "* Optional: give the displayed data cleaner formatting\n",
    "\n",
    "\n",
    "* Display a preview of the summary data frame\n",
    "\n"
   ]
  },
  {
   "cell_type": "code",
   "execution_count": 8,
   "metadata": {},
   "outputs": [
    {
     "data": {
      "text/html": [
       "<div>\n",
       "<style scoped>\n",
       "    .dataframe tbody tr th:only-of-type {\n",
       "        vertical-align: middle;\n",
       "    }\n",
       "\n",
       "    .dataframe tbody tr th {\n",
       "        vertical-align: top;\n",
       "    }\n",
       "\n",
       "    .dataframe thead th {\n",
       "        text-align: right;\n",
       "    }\n",
       "</style>\n",
       "<table border=\"1\" class=\"dataframe\">\n",
       "  <thead>\n",
       "    <tr style=\"text-align: right;\">\n",
       "      <th></th>\n",
       "      <th>Top 5 Spenders</th>\n",
       "      <th>Gender</th>\n",
       "      <th>Amount Spent</th>\n",
       "    </tr>\n",
       "  </thead>\n",
       "  <tbody>\n",
       "    <tr>\n",
       "      <th>0</th>\n",
       "      <td>Lisosia93</td>\n",
       "      <td>Male</td>\n",
       "      <td>18.96</td>\n",
       "    </tr>\n",
       "    <tr>\n",
       "      <th>1</th>\n",
       "      <td>Idastidru52</td>\n",
       "      <td>Male</td>\n",
       "      <td>15.45</td>\n",
       "    </tr>\n",
       "    <tr>\n",
       "      <th>2</th>\n",
       "      <td>Chamjask73</td>\n",
       "      <td>Female</td>\n",
       "      <td>13.83</td>\n",
       "    </tr>\n",
       "    <tr>\n",
       "      <th>3</th>\n",
       "      <td>Iral74</td>\n",
       "      <td>Male</td>\n",
       "      <td>13.62</td>\n",
       "    </tr>\n",
       "    <tr>\n",
       "      <th>4</th>\n",
       "      <td>Iskadarya95</td>\n",
       "      <td>Male</td>\n",
       "      <td>13.10</td>\n",
       "    </tr>\n",
       "  </tbody>\n",
       "</table>\n",
       "</div>"
      ],
      "text/plain": [
       "  Top 5 Spenders  Gender  Amount Spent\n",
       "0      Lisosia93    Male         18.96\n",
       "1    Idastidru52    Male         15.45\n",
       "2     Chamjask73  Female         13.83\n",
       "3         Iral74    Male         13.62\n",
       "4    Iskadarya95    Male         13.10"
      ]
     },
     "execution_count": 8,
     "metadata": {},
     "output_type": "execute_result"
    }
   ],
   "source": [
    "#group whole data set by SN and then sum the price column. \n",
    "top_df = pd.DataFrame(purchase_frame.groupby(['SN', 'Gender'])['Price'].sum())\n",
    "#show in descending order and then only show the first 5 values. \n",
    "top5_df = top_df.sort_values('Price', ascending = False).head(5).reset_index()\n",
    "top5_df.rename(columns = {'SN': 'Top 5 Spenders', 'Price': 'Amount Spent'})"
   ]
  },
  {
   "cell_type": "markdown",
   "metadata": {},
   "source": [
    "## Most Popular Items"
   ]
  },
  {
   "cell_type": "markdown",
   "metadata": {},
   "source": [
    "* Retrieve the Item ID, Item Name, and Item Price columns\n",
    "\n",
    "\n",
    "* Group by Item ID and Item Name. Perform calculations to obtain purchase count, item price, and total purchase value\n",
    "\n",
    "\n",
    "* Create a summary data frame to hold the results\n",
    "\n",
    "\n",
    "* Sort the purchase count column in descending order\n",
    "\n",
    "\n",
    "* Optional: give the displayed data cleaner formatting\n",
    "\n",
    "\n",
    "* Display a preview of the summary data frame\n",
    "\n"
   ]
  },
  {
   "cell_type": "code",
   "execution_count": 9,
   "metadata": {},
   "outputs": [
    {
     "data": {
      "text/html": [
       "<div>\n",
       "<style scoped>\n",
       "    .dataframe tbody tr th:only-of-type {\n",
       "        vertical-align: middle;\n",
       "    }\n",
       "\n",
       "    .dataframe tbody tr th {\n",
       "        vertical-align: top;\n",
       "    }\n",
       "\n",
       "    .dataframe thead th {\n",
       "        text-align: right;\n",
       "    }\n",
       "</style>\n",
       "<table border=\"1\" class=\"dataframe\">\n",
       "  <thead>\n",
       "    <tr style=\"text-align: right;\">\n",
       "      <th></th>\n",
       "      <th>Most Popular Items</th>\n",
       "      <th>Price</th>\n",
       "      <th>Frequency of Purchase</th>\n",
       "    </tr>\n",
       "  </thead>\n",
       "  <tbody>\n",
       "    <tr>\n",
       "      <th>95</th>\n",
       "      <td>Oathbreaker, Last Hope of the Breaking Storm</td>\n",
       "      <td>4.23</td>\n",
       "      <td>12</td>\n",
       "    </tr>\n",
       "    <tr>\n",
       "      <th>52</th>\n",
       "      <td>Extraction, Quickblade Of Trembling Hands</td>\n",
       "      <td>3.53</td>\n",
       "      <td>9</td>\n",
       "    </tr>\n",
       "    <tr>\n",
       "      <th>94</th>\n",
       "      <td>Nirvana</td>\n",
       "      <td>4.90</td>\n",
       "      <td>9</td>\n",
       "    </tr>\n",
       "    <tr>\n",
       "      <th>56</th>\n",
       "      <td>Fiery Glass Crusader</td>\n",
       "      <td>4.58</td>\n",
       "      <td>9</td>\n",
       "    </tr>\n",
       "    <tr>\n",
       "      <th>108</th>\n",
       "      <td>Pursuit, Cudgel of Necromancy</td>\n",
       "      <td>1.02</td>\n",
       "      <td>8</td>\n",
       "    </tr>\n",
       "  </tbody>\n",
       "</table>\n",
       "</div>"
      ],
      "text/plain": [
       "                               Most Popular Items  Price  \\\n",
       "95   Oathbreaker, Last Hope of the Breaking Storm   4.23   \n",
       "52      Extraction, Quickblade Of Trembling Hands   3.53   \n",
       "94                                        Nirvana   4.90   \n",
       "56                           Fiery Glass Crusader   4.58   \n",
       "108                 Pursuit, Cudgel of Necromancy   1.02   \n",
       "\n",
       "     Frequency of Purchase  \n",
       "95                      12  \n",
       "52                       9  \n",
       "94                       9  \n",
       "56                       9  \n",
       "108                      8  "
      ]
     },
     "execution_count": 9,
     "metadata": {},
     "output_type": "execute_result"
    }
   ],
   "source": [
    "item_frame = purchase_frame.drop(columns = ['Purchase ID', 'SN', 'Age', 'Gender', 'AgeGroup'])\n",
    "item_count_df = pd.DataFrame(item_frame.groupby(['Item Name', 'Price'])['Item ID'].count().reset_index())\n",
    "summ_popitem_count = item_count_df.rename(columns = {'Item Name': 'Most Popular Items','Item ID': 'Frequency of Purchase'})\n",
    "summ_popitem_count.sort_values('Frequency of Purchase', ascending = False).head(5)\n"
   ]
  },
  {
   "cell_type": "markdown",
   "metadata": {},
   "source": [
    "## Most Profitable Items"
   ]
  },
  {
   "cell_type": "markdown",
   "metadata": {},
   "source": [
    "* Sort the above table by total purchase value in descending order\n",
    "\n",
    "\n",
    "* Optional: give the displayed data cleaner formatting\n",
    "\n",
    "\n",
    "* Display a preview of the data frame\n",
    "\n"
   ]
  },
  {
   "cell_type": "code",
   "execution_count": 10,
   "metadata": {
    "scrolled": true
   },
   "outputs": [
    {
     "data": {
      "text/html": [
       "<div>\n",
       "<style scoped>\n",
       "    .dataframe tbody tr th:only-of-type {\n",
       "        vertical-align: middle;\n",
       "    }\n",
       "\n",
       "    .dataframe tbody tr th {\n",
       "        vertical-align: top;\n",
       "    }\n",
       "\n",
       "    .dataframe thead th {\n",
       "        text-align: right;\n",
       "    }\n",
       "</style>\n",
       "<table border=\"1\" class=\"dataframe\">\n",
       "  <thead>\n",
       "    <tr style=\"text-align: right;\">\n",
       "      <th></th>\n",
       "      <th>Top Profitable Items</th>\n",
       "      <th>Price</th>\n",
       "      <th>Frequency of Purchase</th>\n",
       "    </tr>\n",
       "  </thead>\n",
       "  <tbody>\n",
       "    <tr>\n",
       "      <th>144</th>\n",
       "      <td>Stormfury Mace</td>\n",
       "      <td>4.99</td>\n",
       "      <td>2</td>\n",
       "    </tr>\n",
       "    <tr>\n",
       "      <th>90</th>\n",
       "      <td>Mercy, Katana of Dismay</td>\n",
       "      <td>4.94</td>\n",
       "      <td>5</td>\n",
       "    </tr>\n",
       "    <tr>\n",
       "      <th>78</th>\n",
       "      <td>Hellreaver, Heirloom of Inception</td>\n",
       "      <td>4.93</td>\n",
       "      <td>3</td>\n",
       "    </tr>\n",
       "    <tr>\n",
       "      <th>143</th>\n",
       "      <td>Stormfury Longsword</td>\n",
       "      <td>4.93</td>\n",
       "      <td>2</td>\n",
       "    </tr>\n",
       "    <tr>\n",
       "      <th>15</th>\n",
       "      <td>Blazeguard, Reach of Eternity</td>\n",
       "      <td>4.91</td>\n",
       "      <td>5</td>\n",
       "    </tr>\n",
       "  </tbody>\n",
       "</table>\n",
       "</div>"
      ],
      "text/plain": [
       "                  Top Profitable Items  Price  Frequency of Purchase\n",
       "144                     Stormfury Mace   4.99                      2\n",
       "90             Mercy, Katana of Dismay   4.94                      5\n",
       "78   Hellreaver, Heirloom of Inception   4.93                      3\n",
       "143                Stormfury Longsword   4.93                      2\n",
       "15       Blazeguard, Reach of Eternity   4.91                      5"
      ]
     },
     "execution_count": 10,
     "metadata": {},
     "output_type": "execute_result"
    }
   ],
   "source": [
    "summ_profit_count = summ_popitem_count.rename(columns = {'Most Popular Items': 'Top Profitable Items'})\n",
    "summ_profit_count.sort_values('Price', ascending = False).head(5)"
   ]
  },
  {
   "cell_type": "code",
   "execution_count": null,
   "metadata": {},
   "outputs": [],
   "source": []
  }
 ],
 "metadata": {
  "anaconda-cloud": {},
  "kernel_info": {
   "name": "python3"
  },
  "kernelspec": {
   "display_name": "Python 3",
   "language": "python",
   "name": "python3"
  },
  "language_info": {
   "codemirror_mode": {
    "name": "ipython",
    "version": 3
   },
   "file_extension": ".py",
   "mimetype": "text/x-python",
   "name": "python",
   "nbconvert_exporter": "python",
   "pygments_lexer": "ipython3",
   "version": "3.6.5"
  },
  "nteract": {
   "version": "0.2.0"
  }
 },
 "nbformat": 4,
 "nbformat_minor": 2
}
