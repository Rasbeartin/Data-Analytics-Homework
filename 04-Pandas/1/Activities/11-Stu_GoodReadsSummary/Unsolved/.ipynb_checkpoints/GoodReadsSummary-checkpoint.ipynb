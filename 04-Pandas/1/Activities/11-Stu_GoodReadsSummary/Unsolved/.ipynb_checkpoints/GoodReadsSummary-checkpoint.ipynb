{
 "cells": [
  {
   "cell_type": "code",
   "execution_count": 3,
   "metadata": {
    "collapsed": true
   },
   "outputs": [],
   "source": [
    "# Import Dependencies\n",
    "import pandas as pd\n",
    "import os"
   ]
  },
  {
   "cell_type": "code",
   "execution_count": 4,
   "metadata": {},
   "outputs": [],
   "source": [
    "# File to Load\n",
    "\n",
    "# Read the modified GoodReads csv and store into Pandas DataFrame\n",
    "\n",
    "# Import the books.csv file as a DataFrame\n",
    "data_file = os.path.join('Resources', 'books_clean.csv')\n",
    "\n",
    "data_frame = pd.read_csv(data_file, encoding=\"utf-8\")\n"
   ]
  },
  {
   "cell_type": "code",
   "execution_count": 17,
   "metadata": {
    "collapsed": true
   },
   "outputs": [
    {
     "data": {
      "text/plain": [
       "596873216"
      ]
     },
     "execution_count": 17,
     "metadata": {},
     "output_type": "execute_result"
    }
   ],
   "source": [
    "# Calculate the number of unique authors in the DataFrame\n",
    "number_of_authors = len(data_frame['Authors'].unique())\n",
    "\n",
    "# Calculate the earliest/latest year a book was published\n",
    "earliest = min(data_frame['Publication Year'])\n",
    "latest = max(data_frame['Publication Year'])\n",
    "\n",
    "# Calculate the total reviews for the entire dataset\n",
    "total_reviews = (sum(data_frame['One Star Reviews']) +\n",
    "                sum(data_frame['Two Star Reviews']) +\n",
    "                sum(data_frame['Three Star Reviews']) +\n",
    "                sum(data_frame['Four Star Reviews']) +\n",
    "                sum(data_frame['Five Star Reviews']))"
   ]
  },
  {
   "cell_type": "code",
   "execution_count": 6,
   "metadata": {},
   "outputs": [],
   "source": [
    "# Place all of the data found into a summary DataFrame\n",
    "\n",
    "summary = pd.DataFrame({\n",
    "    'Number of Authors': number_of_authors,\n",
    "    'Earliest Publication':earliest,\n",
    "    'Latest Publication': latest,\n",
    "    'Total Reviews':\n",
    "})"
   ]
  }
 ],
 "metadata": {
  "kernelspec": {
   "display_name": "Python 3",
   "language": "python",
   "name": "python3"
  },
  "language_info": {
   "codemirror_mode": {
    "name": "ipython",
    "version": 3
   },
   "file_extension": ".py",
   "mimetype": "text/x-python",
   "name": "python",
   "nbconvert_exporter": "python",
   "pygments_lexer": "ipython3",
   "version": "3.6.5"
  }
 },
 "nbformat": 4,
 "nbformat_minor": 2
}
