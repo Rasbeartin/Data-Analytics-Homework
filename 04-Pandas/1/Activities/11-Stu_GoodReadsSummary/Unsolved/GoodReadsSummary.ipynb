{
 "cells": [
  {
   "cell_type": "code",
   "execution_count": 9,
   "metadata": {
    "collapsed": true
   },
   "outputs": [],
   "source": [
    "# Import Dependencies\n",
    "import pandas as pd\n",
    "import os"
   ]
  },
  {
   "cell_type": "code",
   "execution_count": 10,
   "metadata": {},
   "outputs": [],
   "source": [
    "# File to Load\n",
    "\n",
    "# Read the modified GoodReads csv and store into Pandas DataFrame\n",
    "\n",
    "# Import the books.csv file as a DataFrame\n",
    "data_file = os.path.join('Resources', 'books_clean.csv')\n",
    "\n",
    "data_frame = pd.read_csv(data_file, encoding=\"utf-8\")\n"
   ]
  },
  {
   "cell_type": "code",
   "execution_count": 11,
   "metadata": {
    "collapsed": true
   },
   "outputs": [],
   "source": [
    "# Calculate the number of unique authors in the DataFrame\n",
    "number_of_authors = len(data_frame['Authors'].unique())\n",
    "\n",
    "# Calculate the earliest/latest year a book was published\n",
    "earliest = min(data_frame['Publication Year'])\n",
    "latest = max(data_frame['Publication Year'])\n",
    "\n",
    "# Calculate the total reviews for the entire dataset\n",
    "total_reviews = (sum(data_frame['One Star Reviews']) +\n",
    "                sum(data_frame['Two Star Reviews']) +\n",
    "                sum(data_frame['Three Star Reviews']) +\n",
    "                sum(data_frame['Four Star Reviews']) +\n",
    "                sum(data_frame['Five Star Reviews']))"
   ]
  },
  {
   "cell_type": "code",
   "execution_count": 12,
   "metadata": {},
   "outputs": [
    {
     "data": {
      "text/html": [
       "<div>\n",
       "<style scoped>\n",
       "    .dataframe tbody tr th:only-of-type {\n",
       "        vertical-align: middle;\n",
       "    }\n",
       "\n",
       "    .dataframe tbody tr th {\n",
       "        vertical-align: top;\n",
       "    }\n",
       "\n",
       "    .dataframe thead th {\n",
       "        text-align: right;\n",
       "    }\n",
       "</style>\n",
       "<table border=\"1\" class=\"dataframe\">\n",
       "  <thead>\n",
       "    <tr style=\"text-align: right;\">\n",
       "      <th></th>\n",
       "      <th>Number of Authors</th>\n",
       "      <th>Earliest Publication</th>\n",
       "      <th>Latest Publication</th>\n",
       "      <th>Total Reviews</th>\n",
       "    </tr>\n",
       "  </thead>\n",
       "  <tbody>\n",
       "    <tr>\n",
       "      <th>0</th>\n",
       "      <td>4664</td>\n",
       "      <td>-1750.0</td>\n",
       "      <td>2017.0</td>\n",
       "      <td>596873216</td>\n",
       "    </tr>\n",
       "  </tbody>\n",
       "</table>\n",
       "</div>"
      ],
      "text/plain": [
       "   Number of Authors  Earliest Publication  Latest Publication  Total Reviews\n",
       "0               4664               -1750.0              2017.0      596873216"
      ]
     },
     "execution_count": 12,
     "metadata": {},
     "output_type": "execute_result"
    }
   ],
   "source": [
    "# Place all of the data found into a summary DataFrame\n",
    "\n",
    "summary = pd.DataFrame({\n",
    "    'Number of Authors': [number_of_authors],\n",
    "    'Earliest Publication':[earliest],\n",
    "    'Latest Publication': [latest],\n",
    "    'Total Reviews': [total_reviews]})\n",
    "summary"
   ]
  }
 ],
 "metadata": {
  "kernelspec": {
   "display_name": "Python 3",
   "language": "python",
   "name": "python3"
  },
  "language_info": {
   "codemirror_mode": {
    "name": "ipython",
    "version": 3
   },
   "file_extension": ".py",
   "mimetype": "text/x-python",
   "name": "python",
   "nbconvert_exporter": "python",
   "pygments_lexer": "ipython3",
   "version": "3.6.5"
  }
 },
 "nbformat": 4,
 "nbformat_minor": 2
}
